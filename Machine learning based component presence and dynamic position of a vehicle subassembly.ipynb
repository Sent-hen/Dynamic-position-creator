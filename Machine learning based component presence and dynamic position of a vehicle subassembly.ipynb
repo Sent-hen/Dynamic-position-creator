{
 "cells": [
  {
   "cell_type": "code",
   "execution_count": null,
   "id": "f23642e5",
   "metadata": {},
   "outputs": [],
   "source": [
    "from PIL import Image\n",
    "import PIL"
   ]
  },
  {
   "cell_type": "code",
   "execution_count": null,
   "id": "29e4e0e6",
   "metadata": {},
   "outputs": [],
   "source": [
    "image = Image.open(\"Brake 6.jpg\")\n",
    "angle = 0\n",
    "white = (255,255,255)"
   ]
  },
  {
   "cell_type": "code",
   "execution_count": null,
   "id": "b76bb378",
   "metadata": {},
   "outputs": [],
   "source": [
    "while(angle <= 360):\n",
    "    rotated = image.rotate(angle, fillcolor = white)\n",
    "    rotated = rotated.save(\"Brake 6\\Brake 6.\"+ str(angle) + \".jpg\")\n",
    "    angle += 1\n",
    "    output = 0"
   ]
  }
 ],
 "metadata": {
  "kernelspec": {
   "display_name": "Python 3 (ipykernel)",
   "language": "python",
   "name": "python3"
  },
  "language_info": {
   "codemirror_mode": {
    "name": "ipython",
    "version": 3
   },
   "file_extension": ".py",
   "mimetype": "text/x-python",
   "name": "python",
   "nbconvert_exporter": "python",
   "pygments_lexer": "ipython3",
   "version": "3.11.7"
  }
 },
 "nbformat": 4,
 "nbformat_minor": 5
}
