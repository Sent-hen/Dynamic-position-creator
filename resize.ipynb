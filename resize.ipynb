
from PIL import Image
import PIL
image = Image.open("Brake 6.jpg")
angle = 0;
white = (255,255,255)
while(angle <= 360):
    rotated = image.rotate(angle, fillcolor = white)
    rotated = rotated.save("Brake 6\Brake 6."+ str(angle) + ".jpg")
    angle += 1
